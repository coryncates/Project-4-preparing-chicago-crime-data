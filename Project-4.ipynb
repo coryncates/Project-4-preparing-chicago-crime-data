{
 "cells": [
  {
   "attachments": {},
   "cell_type": "markdown",
   "id": "6ec35eb1",
   "metadata": {},
   "source": [
    "# Prepare Chicago Crime Data for a GitHub Repository"
   ]
  },
  {
   "attachments": {},
   "cell_type": "markdown",
   "id": "8a7f3b6a",
   "metadata": {},
   "source": [
    ">- This notebook will process a \"Crimes - 2001 to Preset.csv\" crime file in your Downloads folder and save it as smaller .csv's in a new \"Data/Chicago/\" folder inside this notebook's folder/repo."
   ]
  },
  {
   "attachments": {},
   "cell_type": "markdown",
   "id": "9c338d8e",
   "metadata": {},
   "source": [
    "# INSTRUCTIONS"
   ]
  },
  {
   "cell_type": "code",
   "execution_count": 1,
   "id": "14eefd0c",
   "metadata": {
    "ExecuteTime": {
     "end_time": "2023-07-13T18:39:06.113262Z",
     "start_time": "2023-07-13T18:39:06.097636Z"
    }
   },
   "outputs": [
    {
     "name": "stdout",
     "output_type": "stream",
     "text": [
      "         ID Case Number                    Date                 Block  IUCR  \\\n",
      "0  11037294    JA371270  03/18/2015 12:00:00 PM     0000X W WACKER DR  1153   \n",
      "1  11646293    JC213749  12/20/2018 03:00:00 PM  023XX N LOCKWOOD AVE  1154   \n",
      "2  11645836    JC212333  05/01/2016 12:25:00 AM   055XX S ROCKWELL ST  1153   \n",
      "3  11645959    JC211511  12/20/2018 04:00:00 PM    045XX N ALBANY AVE  2820   \n",
      "4  11645601    JC212935  06/01/2014 12:01:00 AM   087XX S SANGAMON ST  1153   \n",
      "\n",
      "         Primary Type                              Description  \\\n",
      "0  DECEPTIVE PRACTICE      FINANCIAL IDENTITY THEFT OVER $ 300   \n",
      "1  DECEPTIVE PRACTICE  FINANCIAL IDENTITY THEFT $300 AND UNDER   \n",
      "2  DECEPTIVE PRACTICE      FINANCIAL IDENTITY THEFT OVER $ 300   \n",
      "3       OTHER OFFENSE                         TELEPHONE THREAT   \n",
      "4  DECEPTIVE PRACTICE      FINANCIAL IDENTITY THEFT OVER $ 300   \n",
      "\n",
      "  Location Description  Arrest  Domestic  ...  Ward  Community Area  FBI Code  \\\n",
      "0                 BANK   False     False  ...  42.0            32.0        11   \n",
      "1            APARTMENT   False     False  ...  36.0            19.0        11   \n",
      "2                  NaN   False     False  ...  15.0            63.0        11   \n",
      "3            RESIDENCE   False     False  ...  33.0            14.0       08A   \n",
      "4            RESIDENCE   False     False  ...  21.0            71.0        11   \n",
      "\n",
      "   X Coordinate Y Coordinate  Year              Updated On  Latitude  \\\n",
      "0           NaN          NaN  2015  08/01/2017 03:52:26 PM       NaN   \n",
      "1           NaN          NaN  2018  04/06/2019 04:04:43 PM       NaN   \n",
      "2           NaN          NaN  2016  04/06/2019 04:04:43 PM       NaN   \n",
      "3           NaN          NaN  2018  04/06/2019 04:04:43 PM       NaN   \n",
      "4           NaN          NaN  2014  04/06/2019 04:04:43 PM       NaN   \n",
      "\n",
      "  Longitude  Location  \n",
      "0       NaN       NaN  \n",
      "1       NaN       NaN  \n",
      "2       NaN       NaN  \n",
      "3       NaN       NaN  \n",
      "4       NaN       NaN  \n",
      "\n",
      "[5 rows x 22 columns]\n"
     ]
    }
   ],
   "source": [
    "import pandas as pd\n",
    "\n",
    "# URL for the Chicago Crime Data\n",
    "url = \"https://data.cityofchicago.org/api/views/ijzp-q8t2/rows.csv?accessType=DOWNLOAD\"\n",
    "\n",
    "# Read the data into a DataFrame\n",
    "df = pd.read_csv(url)\n",
    "\n",
    "# Display the first few rows of the dataset to get a sense of the data\n",
    "print(df.head())\n"
   ]
  },
  {
   "cell_type": "code",
   "execution_count": 2,
   "id": "0a19b6d3",
   "metadata": {
    "ExecuteTime": {
     "end_time": "2023-07-13T18:39:37.603136Z",
     "start_time": "2023-07-13T18:39:06.161469Z"
    }
   },
   "outputs": [
    {
     "name": "stdout",
     "output_type": "stream",
     "text": [
      "The district with the most crimes is 8.0.\n",
      "The district with the least crimes is 21.0.\n"
     ]
    }
   ],
   "source": [
    "district_crimes = df['District'].value_counts()\n",
    "most_crimes_district = district_crimes.idxmax()\n",
    "least_crimes_district = district_crimes.idxmin()\n",
    "\n",
    "print(f\"The district with the most crimes is {most_crimes_district}.\")\n",
    "print(f\"The district with the least crimes is {least_crimes_district}.\")\n"
   ]
  },
  {
   "attachments": {},
   "cell_type": "markdown",
   "id": "cb486333",
   "metadata": {},
   "source": [
    "District with Most Crimes:\n",
    "\n",
    "The district identified with the highest number of crimes is District 8.0. This suggests that this area may have factors or conditions conducive to higher criminal activity. It would be imperative for stakeholders, especially law enforcement agencies, to delve deeper into understanding the underlying causes of this trend. It could be due to a higher population density, socio-economic factors, or perhaps insufficient policing resources.\n",
    "District with Least Crimes:\n",
    "\n",
    "On the flip side, District 21.0 has the lowest number of crimes reported. This could indicate a more favorable set of conditions in this district, such as better socio-economic factors, effective community policing efforts, or a lower population density.\n",
    "Recommendations:\n",
    "Resource Allocation: Law enforcement authorities might consider reallocating resources to address the higher crime rate in District 8.0. This could include increasing the number of patrol officers, introducing community policing initiatives, or investing in surveillance technology.\n",
    "\n",
    "Community Engagement: Engaging with community leaders and residents in both districts could provide valuable insights into the differences in crime rates. Understanding the community's perspective can often shed light on localized issues or solutions that may not be apparent from the data alone.\n",
    "\n",
    "Further Analysis: A deeper analysis comparing the types of crimes prevalent in these two districts could provide further insights. Additionally, analyzing other factors such as the time of day when crimes are most often committed, or the demographic makeup of these districts, could provide a more nuanced understanding of the crime dynamics.\n",
    "\n",
    "Policy Implementation: Policymakers could use this data to draft policies aimed at crime prevention and community safety, tailored to the needs and circumstances of each district.\n",
    "\n",
    "This analysis can serve as a stepping stone for a more detailed investigation into the dynamics of crime across different districts in Chicago, aiding in the development of data-driven strategies to enhance public safety and crime prevention."
   ]
  },
  {
   "attachments": {},
   "cell_type": "markdown",
   "id": "a56155cf",
   "metadata": {},
   "source": [
    "Topic 2: Crimes Across the Years\n",
    "For this, we'll first convert the date column to a datetime format, then extract the year and group by it."
   ]
  },
  {
   "cell_type": "code",
   "execution_count": 3,
   "id": "13ea2508",
   "metadata": {
    "ExecuteTime": {
     "end_time": "2023-07-13T18:40:10.714159Z",
     "start_time": "2023-07-13T18:39:37.606100Z"
    }
   },
   "outputs": [
    {
     "data": {
      "text/plain": [
       "<Axes: title={'center': 'Crimes Across the Years'}, xlabel='Year'>"
      ]
     },
     "execution_count": 3,
     "metadata": {},
     "output_type": "execute_result"
    },
    {
     "data": {
      "image/png": "[encoded data removed]",
      "text/plain": [
       "<Figure size 640x480 with 1 Axes>"
      ]
     },
     "metadata": {},
     "output_type": "display_data"
    }
   ],
   "source": [
    "df['Date'] = pd.to_datetime(df['Date'])\n",
    "df['Year'] = df['Date'].dt.year\n",
    "yearly_crimes = df.groupby('Year').size()\n",
    "\n",
    "# Plotting the data\n",
    "yearly_crimes.plot(kind='line', title='Crimes Across the Years')\n"
   ]
  },
  {
   "cell_type": "code",
   "execution_count": 11,
   "id": "234b35d5",
   "metadata": {},
   "outputs": [
    {
     "name": "stdout",
     "output_type": "stream",
     "text": [
      "Year\n",
      "2001    485889\n",
      "2002    486808\n",
      "2003    475985\n",
      "2004    469423\n",
      "2005    453775\n",
      "2006    448178\n",
      "2007    437090\n",
      "2008    427184\n",
      "2009    392827\n",
      "2010    370517\n",
      "2011    351993\n",
      "2012    336323\n",
      "2013    307540\n",
      "2014    275792\n",
      "2015    264796\n",
      "2016    269835\n",
      "2017    269108\n",
      "2018    268912\n",
      "2019    261354\n",
      "2020    212220\n",
      "2021    208878\n",
      "2022    238971\n",
      "2023    189668\n",
      "dtype: int64\n"
     ]
    }
   ],
   "source": [
    "print(yearly_crimes)"
   ]
  },
  {
   "attachments": {},
   "cell_type": "markdown",
   "id": "7edd682c",
   "metadata": {},
   "source": [
    "Declining Trend:\n",
    "\n",
    "From the peak in 2002 with 486,808 reported crimes, there is a general declining trend in the total number of crimes over the years, reaching its lowest in 2023 with 189,668 reported crimes.\n",
    "This decline in crime rates over the years can be seen as a positive indicator of effective law enforcement and community engagement initiatives, or possibly economic and social improvements within the city.\n",
    "Minor Fluctuations:\n",
    "\n",
    "There are minor fluctuations in this downward trend, most notably the slight uptick in reported crimes from 2014 to 2016.\n",
    "Such fluctuations may be attributed to various factors including changes in law enforcement practices, socio-economic conditions, or even changes in reporting practices.\n",
    "Recent Increase in 2022:\n",
    "\n",
    "There's a noticeable increase in reported crimes in 2022, up to 238,971 from 208,878 in 2021. This suggests a break in the previous steady decline from 2017 to 2021, which might warrant a closer examination to understand the cause of this increase.\n",
    "Recommendations:\n",
    "Examine Underlying Causes:\n",
    "\n",
    "It would be essential to understand the underlying causes of both the general declining trend as well as the minor fluctuations. This could be achieved through a more detailed analysis of the types of crimes, demographic factors, economic conditions, and law enforcement practices over these years.\n",
    "Policy Review:\n",
    "\n",
    "A review of policies implemented during these years, especially those aimed at crime prevention and community safety, could provide insights into the effectiveness of these strategies and highlight areas for improvement.\n",
    "Community Feedback:\n",
    "\n",
    "Gathering feedback from the community and law enforcement personnel could provide a more nuanced understanding of the crime dynamics over the years.\n",
    "Focused Analysis on Recent Years:\n",
    "\n",
    "The recent increase in 2022 suggests a need for a focused analysis on the recent years to identify any emerging trends or issues that may require attention from law enforcement and community stakeholders.\n"
   ]
  },
  {
   "attachments": {},
   "cell_type": "markdown",
   "id": "1d5375bd",
   "metadata": {},
   "source": [
    "Topic 3: Comparing AM vs. PM Rush Hour\n",
    "We'll filter the data based on the given time ranges for AM and PM rush hours and then compare the counts."
   ]
  },
  {
   "cell_type": "code",
   "execution_count": 4,
   "id": "dad9de53",
   "metadata": {
    "ExecuteTime": {
     "end_time": "2023-07-13T18:40:11.180018Z",
     "start_time": "2023-07-13T18:40:10.716168Z"
    }
   },
   "outputs": [
    {
     "name": "stdout",
     "output_type": "stream",
     "text": [
      "Crimes during AM rush hour: 789393\n",
      "Crimes during PM rush hour: 1236959\n",
      "Top 5 crimes during AM rush hour:\n",
      "THEFT              189437\n",
      "BATTERY            111236\n",
      "CRIMINAL DAMAGE     83436\n",
      "BURGLARY            74532\n",
      "OTHER OFFENSE       63817\n",
      "Name: Primary Type, dtype: int64\n",
      "\n",
      "Top 5 crimes during PM rush hour:\n",
      "THEFT              300840\n",
      "BATTERY            218034\n",
      "CRIMINAL DAMAGE    137480\n",
      "NARCOTICS          103661\n",
      "ASSAULT             92618\n",
      "Name: Primary Type, dtype: int64\n",
      "\n",
      "Motor Vehicle Thefts during AM rush hour: 43572\n",
      "Motor Vehicle Thefts during PM rush hour: 57469\n"
     ]
    }
   ],
   "source": [
    "am_rush_hour = df[df['Date'].dt.hour.isin([7, 8, 9])]\n",
    "pm_rush_hour = df[df['Date'].dt.hour.isin([16, 17, 18])]\n",
    "\n",
    "print(f\"Crimes during AM rush hour: {len(am_rush_hour)}\")\n",
    "print(f\"Crimes during PM rush hour: {len(pm_rush_hour)}\")\n",
    "\n",
    "# Top 5 crimes during AM and PM rush hours\n",
    "print(\"Top 5 crimes during AM rush hour:\")\n",
    "print(am_rush_hour['Primary Type'].value_counts().head(5))\n",
    "\n",
    "print(\"\\nTop 5 crimes during PM rush hour:\")\n",
    "print(pm_rush_hour['Primary Type'].value_counts().head(5))\n",
    "\n",
    "# Motor Vehicle Thefts comparison\n",
    "am_motor_thefts = am_rush_hour[am_rush_hour['Primary Type'] == 'MOTOR VEHICLE THEFT']\n",
    "pm_motor_thefts = pm_rush_hour[pm_rush_hour['Primary Type'] == 'MOTOR VEHICLE THEFT']\n",
    "\n",
    "print(f\"\\nMotor Vehicle Thefts during AM rush hour: {len(am_motor_thefts)}\")\n",
    "print(f\"Motor Vehicle Thefts during PM rush hour: {len(pm_motor_thefts)}\")\n"
   ]
  },
  {
   "attachments": {},
   "cell_type": "markdown",
   "id": "cd8bc24b",
   "metadata": {},
   "source": [
    "The data provides a comparative view of criminal activity during AM (7 AM - 10 AM) and PM (4 PM - 7 PM) rush hours in Chicago. Here's a breakdown of the findings:\n",
    "\n",
    "Higher Crime Rate During PM Rush Hour:\n",
    "\n",
    "With 1,236,959 reported crimes, the PM rush hour holds a significantly higher crime rate compared to the AM rush hour which has 789,393 reported crimes. This may suggest that the later part of the day is more conducive to criminal activity, which could be attributed to various factors such as higher population movement, less daylight during certain months, or other socio-economic factors.\n",
    "Predominant Crimes:\n",
    "\n",
    "The top three crimes remain consistent during both rush hours, albeit with different frequencies:\n",
    "Theft: Remains the most common crime, with a noticeable increase in occurrences during PM rush hour (300,840) compared to AM rush hour (189,437).\n",
    "Battery: The second most common crime, also seeing an increase in the PM rush hour (218,034) compared to AM rush hour (111,236).\n",
    "Criminal Damage: Holds the third spot, with occurrences increasing from 83,436 during AM rush hour to 137,480 during PM rush hour.\n",
    "Notable Differences:\n",
    "\n",
    "Narcotics: This type of crime ranks as the fourth most common during PM rush hour with 103,661 occurrences, whereas it doesn't feature in the top five during AM rush hour.\n",
    "Burglary and Other Offenses: These crimes are more prevalent during AM rush hour, ranking fourth and fifth respectively, but do not appear in the top five during PM rush hour.\n",
    "Assault: Ranks fifth during PM rush hour with 92,618 occurrences but is not among the top five during AM rush hour.\n",
    "Motor Vehicle Thefts:\n",
    "\n",
    "Motor Vehicle Thefts are more common during PM rush hour with 57,469 occurrences, compared to 43,572 during AM rush hour. This could possibly be attributed to higher traffic volumes and more vehicles being on the road during PM rush hour.\n",
    "Recommendations:\n",
    "Increased Vigilance: Law enforcement agencies might consider increasing vigilance and patrols during PM rush hour, given the higher rate of crimes during this period.\n",
    "\n",
    "Public Awareness: Engaging in public awareness campaigns to educate the public about the prevalent crimes during these hours, and providing safety tips could be beneficial.\n",
    "\n",
    "Further Analysis: A deeper dive into the types of locations these crimes are occurring, the demographic information of perpetrators and victims, and other correlating factors could provide a more nuanced understanding and aid in developing targeted intervention strategies.\n",
    "\n",
    "Community Policing: Encouraging community policing and reporting could also play a significant role in reducing crime rates during these peak hours."
   ]
  },
  {
   "attachments": {},
   "cell_type": "markdown",
   "id": "370f3ae4",
   "metadata": {},
   "source": [
    "Topic 4: Comparing Months\n",
    "We'll extract the month from the date and then group by it to get the counts.\n",
    "python\n"
   ]
  },
  {
   "cell_type": "code",
   "execution_count": 5,
   "id": "387c9dac",
   "metadata": {
    "ExecuteTime": {
     "end_time": "2023-07-13T18:40:14.503394Z",
     "start_time": "2023-07-13T18:40:11.180018Z"
    }
   },
   "outputs": [
    {
     "data": {
      "text/plain": [
       "<Axes: title={'center': 'Crimes Across the Months'}, xlabel='Month'>"
      ]
     },
     "execution_count": 5,
     "metadata": {},
     "output_type": "execute_result"
    },
    {
     "data": {
      "image/png": "[encoded data removed]",
      "text/plain": [
       "<Figure size 640x480 with 1 Axes>"
      ]
     },
     "metadata": {},
     "output_type": "display_data"
    }
   ],
   "source": [
    "df['Month'] = df['Date'].dt.month\n",
    "monthly_crimes = df.groupby('Month').size()\n",
    "\n",
    "# Plotting the data\n",
    "monthly_crimes.plot(kind='bar', title='Crimes Across the Months')\n"
   ]
  },
  {
   "cell_type": "code",
   "execution_count": 12,
   "id": "463a6ded",
   "metadata": {},
   "outputs": [
    {
     "name": "stdout",
     "output_type": "stream",
     "text": [
      "Month\n",
      "1     622290\n",
      "2     547732\n",
      "3     650322\n",
      "4     647798\n",
      "5     704997\n",
      "6     704186\n",
      "7     740932\n",
      "8     734153\n",
      "9     685575\n",
      "10    676297\n",
      "11    608984\n",
      "12    579800\n",
      "dtype: int64\n"
     ]
    }
   ],
   "source": [
    "print(monthly_crimes)"
   ]
  },
  {
   "attachments": {},
   "cell_type": "markdown",
   "id": "e556c84b",
   "metadata": {},
   "source": [
    "Analysis:\n",
    "The data showcases the distribution of crimes across different months from January to December.\n",
    "\n",
    "Peak Crime Months:\n",
    "\n",
    "The highest crime rates are observed during the summer months, with July leading at 740,932 reported crimes, followed closely by August with 734,153 reported crimes, and then June with 704,186 reported crimes. This could possibly be attributed to the warmer weather, which tends to result in more people being outdoors and possibly more opportunities for criminal activity.\n",
    "Decline in Crime Rates:\n",
    "\n",
    "Post-summer, there's a gradual decline in crime rates moving into the autumn and winter months. October sees 676,297 reported crimes, which further dip to 608,984 in November and 579,800 in December. This trend could be related to the colder weather, where fewer individuals are likely outdoors, potentially leading to fewer opportunities for crimes.\n",
    "Spring to Early Summer:\n",
    "\n",
    "The transition from spring to early summer also sees a rise in crime rates. May marks a significant rise in reported crimes with 704,997 incidents, indicating the onset of higher crime rates as the weather warms up.\n",
    "Winter to Spring Transition:\n",
    "\n",
    "From the winter months to spring, there's a noticeable increase in reported crimes, from 547,732 in February to 650,322 in March. This upward trend continues into April with 647,798 reported crimes.\n",
    "Recommendations:\n",
    "Seasonal Deployment of Resources:\n",
    "\n",
    "Law enforcement agencies could consider a seasonal approach in deploying resources, with more personnel and equipment allocated during the warmer months when crime rates are higher.\n",
    "Public Awareness Campaigns:\n",
    "\n",
    "Public awareness campaigns on personal safety and crime prevention could be ramped up as warmer weather approaches, to educate the public on ways to protect themselves and their property.\n",
    "Community Engagement:\n",
    "\n",
    "Engaging with community groups for neighborhood watches or other community policing initiatives could be beneficial, particularly in the warmer months.\n",
    "Further Analysis:\n",
    "\n",
    "A deeper analysis on the types of crimes that are more prevalent in different months, and any correlating factors such as major events or holidays, could provide more insights into the crime dynamics across months.\n",
    "Event Planning:\n",
    "\n",
    "During months with higher crime rates, planning for large events where crowds are expected should include robust security measures to prevent and respond to criminal activities.\n",
    "Understanding the seasonal trends in crime rates can significantly aid law enforcement agencies in planning and allocating resources more effectively to ensure public safety throughout the year."
   ]
  },
  {
   "attachments": {},
   "cell_type": "markdown",
   "id": "48fa2dc7",
   "metadata": {},
   "source": [
    "Topic 5: Comparing Holidays\n",
    "For this, we'll make use of the holidays package to get the list of holidays and then filter our data based on these dates."
   ]
  },
  {
   "cell_type": "code",
   "execution_count": 9,
   "id": "b0e45685",
   "metadata": {},
   "outputs": [
    {
     "name": "stdout",
     "output_type": "stream",
     "text": [
      "Requirement already satisfied: holidays in /usr/local/Caskroom/miniforge/base/envs/dojo-env/lib/python3.9/site-packages (0.34)\n",
      "Requirement already satisfied: python-dateutil in /usr/local/Caskroom/miniforge/base/envs/dojo-env/lib/python3.9/site-packages (from holidays) (2.8.2)\n",
      "Requirement already satisfied: six>=1.5 in /usr/local/Caskroom/miniforge/base/envs/dojo-env/lib/python3.9/site-packages (from python-dateutil->holidays) (1.16.0)\n",
      "Note: you may need to restart the kernel to use updated packages.\n"
     ]
    }
   ],
   "source": [
    "pip install holidays\n"
   ]
  },
  {
   "cell_type": "code",
   "execution_count": 10,
   "id": "6417fc0d",
   "metadata": {
    "ExecuteTime": {
     "end_time": "2023-07-13T18:40:14.519321Z",
     "start_time": "2023-07-13T18:40:14.503394Z"
    }
   },
   "outputs": [
    {
     "name": "stdout",
     "output_type": "stream",
     "text": [
      "Average crimes on holidays: 907.171206225681\n",
      "Average crimes on non-holidays: 953.2591349739\n"
     ]
    }
   ],
   "source": [
    "import holidays\n",
    "\n",
    "us_holidays = holidays.US(years=df['Year'].unique())\n",
    "df['Holiday'] = df['Date'].dt.date.isin(us_holidays)\n",
    "\n",
    "holiday_crimes = df[df['Holiday'] == True].groupby(df['Date'].dt.date).size()\n",
    "non_holiday_crimes = df[df['Holiday'] == False].groupby(df['Date'].dt.date).size()\n",
    "\n",
    "avg_holiday_crimes = holiday_crimes.mean()\n",
    "avg_non_holiday_crimes = non_holiday_crimes.mean()\n",
    "\n",
    "print(f\"Average crimes on holidays: {avg_holiday_crimes}\")\n",
    "print(f\"Average crimes on non-holidays: {avg_non_holiday_crimes}\")\n"
   ]
  },
  {
   "attachments": {},
   "cell_type": "markdown",
   "id": "b12f84a1",
   "metadata": {},
   "source": [
    "#### Analysis:\n",
    "\n",
    "The data provides insight into the average number of crimes occurring on holidays as opposed to non-holidays.\n",
    "\n",
    "- **Average Crimes:**\n",
    "  - On holidays, the average number of crimes reported is 907.17, which is slightly lower than the average number of crimes on non-holidays, standing at 953.26. This suggests that there's a minor reduction in criminal activity on holidays.\n",
    "\n",
    "- **Possible Contributing Factors:**\n",
    "  - The slight decrease in crimes on holidays could be attributed to several factors:\n",
    "    - **Increased Vigilance:** There might be increased vigilance and patrolling by law enforcement agencies on holidays.\n",
    "    - **Closed Businesses:** Many businesses and institutions are closed on holidays, which might reduce the opportunities for certain types of crimes such as theft and burglary.\n",
    "    - **Community Gatherings:** Holidays often involve community gatherings which could foster a sense of security and deter criminal activity.\n",
    "\n",
    "#### Recommendations:\n",
    "\n",
    "- **Enhanced Patrolling:** Law enforcement agencies might consider enhancing patrolling and vigilance on non-holidays, learning from the slightly reduced crime rates observed on holidays.\n",
    "  \n",
    "- **Community Engagement:** Encouraging community gatherings and neighborhood watches could be a strategy to deter criminal activity, as seen by the slight reduction of crimes on holidays.\n",
    "  \n",
    "- **Further Analysis:** A deeper analysis to understand the types of crimes that are less prevalent on holidays and the underlying factors contributing to the slight reduction of crimes can provide more nuanced insights for better law enforcement planning.\n",
    "\n",
    "The analysis of crime data in relation to holidays and non-holidays provides a foundation for understanding how different days impact crime rates, and how this information can be leveraged to enhance public safety and crime prevention strategies."
   ]
  }
 ],
 "metadata": {
  "kernelspec": {
   "display_name": "Python (dojo-env)",
   "language": "python",
   "name": "dojo-env"
  },
  "language_info": {
   "codemirror_mode": {
    "name": "ipython",
    "version": 3
   },
   "file_extension": ".py",
   "mimetype": "text/x-python",
   "name": "python",
   "nbconvert_exporter": "python",
   "pygments_lexer": "ipython3",
   "version": "3.9.15"
  },
  "toc": {
   "base_numbering": 1,
   "nav_menu": {},
   "number_sections": false,
   "sideBar": true,
   "skip_h1_title": false,
   "title_cell": "Table of Contents",
   "title_sidebar": "Contents",
   "toc_cell": false,
   "toc_position": {
    "height": "calc(100% - 180px)",
    "left": "10px",
    "top": "150px",
    "width": "262.387px"
   },
   "toc_section_display": true,
   "toc_window_display": false
  }
 },
 "nbformat": 4,
 "nbformat_minor": 5
}
